{
 "cells": [
  {
   "cell_type": "markdown",
   "metadata": {},
   "source": [
    "For my digital cut-up revisited, I worked with integrating emojis into spaCy text generation. To be honest, I was a bit regretful of choosing to use emojis for my cut-up, because they were a bit difficult to work with. However, after thoroughly analyzing the tutorials, I thought it would be quite interesting to see if I could actually assign 'emoji vectors'. "
   ]
  },
  {
   "cell_type": "code",
   "execution_count": 109,
   "metadata": {},
   "outputs": [],
   "source": [
    "import json"
   ]
  },
  {
   "cell_type": "code",
   "execution_count": 110,
   "metadata": {},
   "outputs": [],
   "source": [
    "import numpy as np"
   ]
  },
  {
   "cell_type": "code",
   "execution_count": 111,
   "metadata": {},
   "outputs": [],
   "source": [
    "import emoji"
   ]
  },
  {
   "cell_type": "code",
   "execution_count": 112,
   "metadata": {},
   "outputs": [],
   "source": [
    "emoji_data = json.loads(open(\"emojis.json\").read())"
   ]
  },
  {
   "cell_type": "markdown",
   "metadata": {},
   "source": [
    "After importing all the necessary modules, I stored a modified json file (duplicated from the color data corpus) into emoji_data. The modified corpus looked something like this:\n",
    "        {\n",
    "            \"color\": \"🟡\",\n",
    "            \"hex\": \"#f1f33f\"\n",
    "        },\n",
    "\n",
    "        {\n",
    "            \"color\": \"💄\",\n",
    "            \"hex\": \"#c0022f\"\n",
    "        },\n",
    "\n",
    "        {\n",
    "            \"color\": \"🌅\",\n",
    "            \"hex\": \"#fffd37\"\n",
    "        },\n",
    "\n",
    "        {\n",
    "            \"color\": \"🐙\",\n",
    "            \"hex\": \"#a442a0\"\n",
    "        },\n",
    "\n",
    "        {\n",
    "            \"color\": \"🎲\",\n",
    "            \"hex\": \"#fff4f2\"\n",
    "        },\n",
    "\n",
    "        {\n",
    "            \"color\": \"🦚\",\n",
    "            \"hex\": \"#0add08\"\n",
    "        },\n",
    "        \n",
    " Looking at this corpus after the finishing the assignment, I see a lot of issues with it, namely the assignment of the emojis to the hex values. However, because I wasn't sure what values I could assign to the emojis to vectorize them, I decided to just use the hex values in the end. I made sure to categorize each emoji by assigning it to the hex value closest to the color it had, as well as the name of the colors themselves (ex: lipstick red is denoted by the lipstick emoji)."
   ]
  },
  {
   "cell_type": "code",
   "execution_count": 113,
   "metadata": {},
   "outputs": [],
   "source": [
    "def hex_to_int(s):\n",
    "    s = s.lstrip(\"#\")\n",
    "    return np.array([int(s[:2], 16), int(s[2:4], 16), int(s[4:6], 16)])"
   ]
  },
  {
   "cell_type": "markdown",
   "metadata": {},
   "source": [
    "Converted the hex values into integers."
   ]
  },
  {
   "cell_type": "code",
   "execution_count": 114,
   "metadata": {},
   "outputs": [],
   "source": [
    "emojis = dict()\n",
    "for item in emoji_data['colors']:\n",
    "    emojis[item[\"color\"]] = hex_to_int(item[\"hex\"])"
   ]
  },
  {
   "cell_type": "markdown",
   "metadata": {},
   "source": [
    "Storing the mapped values into 'emojis' dictionary."
   ]
  },
  {
   "cell_type": "code",
   "execution_count": 115,
   "metadata": {},
   "outputs": [
    {
     "data": {
      "text/plain": [
       "array([  0,   0, 255])"
      ]
     },
     "execution_count": 115,
     "metadata": {},
     "output_type": "execute_result"
    }
   ],
   "source": [
    "emojis['blue']"
   ]
  },
  {
   "cell_type": "code",
   "execution_count": 116,
   "metadata": {},
   "outputs": [],
   "source": [
    "import sys"
   ]
  },
  {
   "cell_type": "code",
   "execution_count": 117,
   "metadata": {},
   "outputs": [],
   "source": [
    "from simpleneighbors import SimpleNeighbors"
   ]
  },
  {
   "cell_type": "code",
   "execution_count": 118,
   "metadata": {},
   "outputs": [],
   "source": [
    "emoji_lookup = SimpleNeighbors(3, 'euclidean')\n",
    "for name, vec in emojis.items():\n",
    "    emoji_lookup.add_one(name, vec)\n",
    "emoji_lookup.build()"
   ]
  },
  {
   "cell_type": "markdown",
   "metadata": {},
   "source": [
    "Add the values to the index."
   ]
  },
  {
   "cell_type": "code",
   "execution_count": 119,
   "metadata": {},
   "outputs": [
    {
     "data": {
      "text/plain": [
       "['red', '🚒', '🛑', '🍒', '🍅', '🍓', '🍄', '🥤', '🦧', '🍎', '🌶', '🍑']"
      ]
     },
     "execution_count": 119,
     "metadata": {},
     "output_type": "execute_result"
    }
   ],
   "source": [
    "emoji_lookup.nearest(emojis['red'])"
   ]
  },
  {
   "cell_type": "code",
   "execution_count": 120,
   "metadata": {},
   "outputs": [
    {
     "data": {
      "text/plain": [
       "['white', '🥼', '🎲', '🥋', '⚽', '🚑', '🥛', '🍚', '🥚', '🦢', '🐇', '👻']"
      ]
     },
     "execution_count": 120,
     "metadata": {},
     "output_type": "execute_result"
    }
   ],
   "source": [
    "emoji_lookup.nearest(emojis['white'])"
   ]
  },
  {
   "cell_type": "code",
   "execution_count": 121,
   "metadata": {},
   "outputs": [
    {
     "data": {
      "text/plain": [
       "['black', '☕', '🍫', '🌘', '🦇', '🐀', '🦝', '🌑', '🎱', '♠', '🥥', '🌲']"
      ]
     },
     "execution_count": 121,
     "metadata": {},
     "output_type": "execute_result"
    }
   ],
   "source": [
    "emoji_lookup.nearest(emojis['black'])"
   ]
  },
  {
   "cell_type": "code",
   "execution_count": 122,
   "metadata": {},
   "outputs": [
    {
     "data": {
      "text/plain": [
       "['yellow', '🌟', '🌻', '🏵', '🌼', '🌅', '🍌', '🍋', '🐤', '🟡', '😺', 'orange']"
      ]
     },
     "execution_count": 122,
     "metadata": {},
     "output_type": "execute_result"
    }
   ],
   "source": [
    "emoji_lookup.nearest(emojis['yellow'])"
   ]
  },
  {
   "cell_type": "code",
   "execution_count": 123,
   "metadata": {},
   "outputs": [
    {
     "data": {
      "text/plain": [
       "['pink', '🍭', '👻', '🌸', '🥚', '🎲', '🌺', '🐷', '🥋', '🍣', '🛍', '🎀']"
      ]
     },
     "execution_count": 123,
     "metadata": {},
     "output_type": "execute_result"
    }
   ],
   "source": [
    "emoji_lookup.nearest(emojis['pink'])"
   ]
  },
  {
   "cell_type": "code",
   "execution_count": 124,
   "metadata": {},
   "outputs": [
    {
     "data": {
      "text/plain": [
       "['orange', '🍊', '🎃', '🏵', '🔥', '🧀', '🌻', '🌼', '🦁', '🏀', '🥭', '🌟']"
      ]
     },
     "execution_count": 124,
     "metadata": {},
     "output_type": "execute_result"
    }
   ],
   "source": [
    "emoji_lookup.nearest(emojis['orange'])"
   ]
  },
  {
   "cell_type": "code",
   "execution_count": 125,
   "metadata": {},
   "outputs": [
    {
     "data": {
      "text/plain": [
       "['blue', '🧊', '🦋', '🌌', '🟦', '🧞\\u200d', '🔌', '💠', '🔵', '🏙', '🔮', '🥀']"
      ]
     },
     "execution_count": 125,
     "metadata": {},
     "output_type": "execute_result"
    }
   ],
   "source": [
    "emoji_lookup.nearest(emojis['blue'])"
   ]
  },
  {
   "cell_type": "code",
   "execution_count": 126,
   "metadata": {},
   "outputs": [
    {
     "data": {
      "text/plain": [
       "['green', '🦚', '👒', '☘', '🟢', '🗽', '🍀', '🐲', '🍃', '🌿', '🐉', '🌱']"
      ]
     },
     "execution_count": 126,
     "metadata": {},
     "output_type": "execute_result"
    }
   ],
   "source": [
    "emoji_lookup.nearest(emojis['green'])"
   ]
  },
  {
   "cell_type": "markdown",
   "metadata": {},
   "source": [
    "There seems to be no issue finding the nearest emojis to the specified colors, so the next step would be to see if I could input a text and receive an emoji output."
   ]
  },
  {
   "cell_type": "code",
   "execution_count": 127,
   "metadata": {},
   "outputs": [],
   "source": [
    "import spacy\n",
    "nlp = spacy.load('en_core_web_md')"
   ]
  },
  {
   "cell_type": "code",
   "execution_count": 128,
   "metadata": {},
   "outputs": [],
   "source": [
    "def meanv(vecs):\n",
    "    total = np.sum(vecs, axis=0)\n",
    "    return total / len(vecs)"
   ]
  },
  {
   "cell_type": "markdown",
   "metadata": {},
   "source": [
    "The function from the tutorial (from what I understand, it calculates the mean of all the vectors, which is useful in generating an 'encapsulating emoji' for the text)."
   ]
  },
  {
   "cell_type": "code",
   "execution_count": 129,
   "metadata": {},
   "outputs": [
    {
     "name": "stdout",
     "output_type": "stream",
     "text": [
      "[226.325 225.675 199.525]\n"
     ]
    }
   ],
   "source": [
    "doc = nlp(open(\"alice.txt\").read())\n",
    "alice_emojis = [emojis[word.lower_] for word in doc if word.lower_ in emojis]\n",
    "avg_emojis = meanv(alice_emojis)\n",
    "print(avg_emojis)"
   ]
  },
  {
   "cell_type": "markdown",
   "metadata": {},
   "source": [
    "I chose the text 'Alice in Wonderland' for my test run."
   ]
  },
  {
   "cell_type": "code",
   "execution_count": 130,
   "metadata": {},
   "outputs": [
    {
     "data": {
      "text/plain": [
       "['🥚', 'pink', '🥋', '🎲', '🍭', '🥛', '👻', '⚽', '🚑', '🐇', '🍚', '🦢']"
      ]
     },
     "execution_count": 130,
     "metadata": {},
     "output_type": "execute_result"
    }
   ],
   "source": [
    "emoji_lookup.nearest(avg_emojis)"
   ]
  },
  {
   "cell_type": "markdown",
   "metadata": {},
   "source": [
    "It was quite interesting to see that 'Alice in Wonderland' was embodied by an overwhelmingly 'white' emoji color scheme."
   ]
  },
  {
   "cell_type": "code",
   "execution_count": 131,
   "metadata": {},
   "outputs": [
    {
     "name": "stdout",
     "output_type": "stream",
     "text": [
      "On the outside I'm red, but really I'm blue\n",
      "On the outside I'm 🍎, but really I'm 🏙\n",
      "On the outside I'm 🍒, but really I'm 🦋\n",
      "On the outside I'm red, but really I'm 🔮\n",
      "On the outside I'm 🌶, but really I'm 🥣\n",
      "On the outside I'm 🍓, but really I'm 🔷\n",
      "On the outside I'm 🟠, but really I'm 🔵\n",
      "On the outside I'm 🍓, but really I'm 🔮\n",
      "On the outside I'm 🍄, but really I'm 🦋\n",
      "On the outside I'm red, but really I'm 🧞‍\n",
      "On the outside I'm 🍄, but really I'm 🔌\n",
      "On the outside I'm 🛑, but really I'm 🏙\n",
      "On the outside I'm 💄, but really I'm 🌃\n",
      "On the outside I'm 🚒, but really I'm 🔮\n"
     ]
    }
   ],
   "source": [
    "import random\n",
    "red = emojis['red']\n",
    "blue = emojis['blue']\n",
    "for i in range(14):\n",
    "    rednames = emoji_lookup.nearest(red)\n",
    "    bluenames = emoji_lookup.nearest(blue)\n",
    "    print(\"On the outside I'm \" + rednames[0] + \", but really I'm \" + bluenames[0])\n",
    "    red = emojis[random.choice(rednames[1:])]\n",
    "    blue = emojis[random.choice(bluenames[1:])]"
   ]
  },
  {
   "cell_type": "markdown",
   "metadata": {},
   "source": [
    "I also tried to create some emoji poems as well."
   ]
  },
  {
   "cell_type": "code",
   "execution_count": 135,
   "metadata": {},
   "outputs": [
    {
     "name": "stdout",
     "output_type": "stream",
     "text": [
      "[ 86.7  105.84 116.26]\n",
      "Frankenstein is['🐟', '🐋', '🟪', '🥗', '🍠', '🎾', '💚', '🔷', '🥣', '🍆', '🍇', '🔮']\n"
     ]
    }
   ],
   "source": [
    "doc = nlp(open(\"frankenstein.txt\").read())\n",
    "franken_emojis = [emojis[word.lower_] for word in doc if word.lower_ in emojis]\n",
    "avg_emojis = meanv(franken_emojis)\n",
    "print(avg_emojis)\n",
    "print(\"Frankenstein is\" + str(emoji_lookup.nearest(avg_emojis)))"
   ]
  },
  {
   "cell_type": "markdown",
   "metadata": {},
   "source": [
    "Another attempt with 'Frankenstein' as the input text. Interestingly, 'Frankenstein' differed from the all-white of \"Alice in Wonderland', complete with blue, purple, and green colors. I really wish that I had organized the emojis in a different way when I was creating the corpus, perhaps according to their meaning rather than color. Hopefully, as I experiment more with emojis and vectors, I can create an Emoji-Generator that can encapsulate even more of the text's meaning."
   ]
  }
 ],
 "metadata": {
  "kernelspec": {
   "display_name": "Python 3",
   "language": "python",
   "name": "python3"
  },
  "language_info": {
   "codemirror_mode": {
    "name": "ipython",
    "version": 3
   },
   "file_extension": ".py",
   "mimetype": "text/x-python",
   "name": "python",
   "nbconvert_exporter": "python",
   "pygments_lexer": "ipython3",
   "version": "3.8.3"
  }
 },
 "nbformat": 4,
 "nbformat_minor": 4
}
